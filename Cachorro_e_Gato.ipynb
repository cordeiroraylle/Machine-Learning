{
  "nbformat": 4,
  "nbformat_minor": 0,
  "metadata": {
    "colab": {
      "name": "Cachorro e Gato.ipynb",
      "provenance": [],
      "include_colab_link": true
    },
    "kernelspec": {
      "name": "python3",
      "display_name": "Python 3"
    }
  },
  "cells": [
    {
      "cell_type": "markdown",
      "metadata": {
        "id": "view-in-github",
        "colab_type": "text"
      },
      "source": [
        "<a href=\"https://colab.research.google.com/github/cordeiroraylle/Machine-Learning/blob/master/Cachorro_e_Gato.ipynb\" target=\"_parent\"><img src=\"https://colab.research.google.com/assets/colab-badge.svg\" alt=\"Open In Colab\"/></a>"
      ]
    },
    {
      "cell_type": "markdown",
      "metadata": {
        "id": "H0ZB1ifYq0l0",
        "colab_type": "text"
      },
      "source": [
        "# Cachorro e gato - Classificação\n",
        "\n",
        "\n",
        "* É fofinho? **1**\n",
        "* Tem orelha pequena? **1**\n",
        "* Faz miau? 1\n",
        "\n",
        "Caso contrário recebe 0 \n",
        "\n",
        "* Gato = 1\n",
        "* cachorro = -1"
      ]
    },
    {
      "cell_type": "code",
      "metadata": {
        "id": "cFItL9JPr7bJ",
        "colab_type": "code",
        "colab": {}
      },
      "source": [
        "from sklearn.linear_model import LogisticRegression"
      ],
      "execution_count": 0,
      "outputs": []
    },
    {
      "cell_type": "code",
      "metadata": {
        "id": "qtTZiknVqwkq",
        "colab_type": "code",
        "colab": {}
      },
      "source": [
        "bichinho1 = [1, 1, 1]\n",
        "bichinho2 = [1, 0, 1]\n",
        "\n",
        "bichinho4 = [1, 1, 0]\n",
        "bichinho5 = [0, 1, 0]\n"
      ],
      "execution_count": 0,
      "outputs": []
    },
    {
      "cell_type": "code",
      "metadata": {
        "id": "vQneTUzNrpkq",
        "colab_type": "code",
        "colab": {}
      },
      "source": [
        "dados = [bichinho1,bichinho2, bichinho4, bichinho5]\n",
        "marcacoes = [1, 1,-1, -1]"
      ],
      "execution_count": 0,
      "outputs": []
    },
    {
      "cell_type": "code",
      "metadata": {
        "id": "CWgByT6rr3uK",
        "colab_type": "code",
        "colab": {
          "base_uri": "https://localhost:8080/",
          "height": 136
        },
        "outputId": "e0c028de-d235-47ad-cd51-ba359df0436e"
      },
      "source": [
        "model = LogisticRegression()\n",
        "model.fit(dados, marcacoes)"
      ],
      "execution_count": 23,
      "outputs": [
        {
          "output_type": "stream",
          "text": [
            "/usr/local/lib/python3.6/dist-packages/sklearn/linear_model/logistic.py:432: FutureWarning: Default solver will be changed to 'lbfgs' in 0.22. Specify a solver to silence this warning.\n",
            "  FutureWarning)\n"
          ],
          "name": "stderr"
        },
        {
          "output_type": "execute_result",
          "data": {
            "text/plain": [
              "LogisticRegression(C=1.0, class_weight=None, dual=False, fit_intercept=True,\n",
              "                   intercept_scaling=1, l1_ratio=None, max_iter=100,\n",
              "                   multi_class='warn', n_jobs=None, penalty='l2',\n",
              "                   random_state=None, solver='warn', tol=0.0001, verbose=0,\n",
              "                   warm_start=False)"
            ]
          },
          "metadata": {
            "tags": []
          },
          "execution_count": 23
        }
      ]
    },
    {
      "cell_type": "code",
      "metadata": {
        "id": "Ju5Zm4r5sYVU",
        "colab_type": "code",
        "colab": {}
      },
      "source": [
        "#misterioso = [0,0,0]\n",
        "#misterioso1 = [0,0,1]\n",
        "#misterioso2 =[0,1,0]\n",
        "#misterioso3= [0,1,1]\n",
        "#misterioso4 = [1,0,0]\n",
        "\n",
        "#teste = [misterioso, misterioso1, misterioso2, misterioso3, misterioso4]\n",
        "\n",
        "m1 = [0,1,1]\n",
        "m2 = [0,1,0]\n",
        "teste = [m1,m2]\n",
        "previsao = model.predict(teste)\n",
        "\n"
      ],
      "execution_count": 0,
      "outputs": []
    },
    {
      "cell_type": "code",
      "metadata": {
        "id": "I5n00yCfuua-",
        "colab_type": "code",
        "colab": {
          "base_uri": "https://localhost:8080/",
          "height": 34
        },
        "outputId": "597872c6-6cc5-4c0b-8675-b9460dcbbbf1"
      },
      "source": [
        "v_real = [1,-1]\n",
        "correto = (previsao == v_real).sum()\n",
        "acertos = (correto / len(teste))*100\n",
        "acertos"
      ],
      "execution_count": 25,
      "outputs": [
        {
          "output_type": "execute_result",
          "data": {
            "text/plain": [
              "100.0"
            ]
          },
          "metadata": {
            "tags": []
          },
          "execution_count": 25
        }
      ]
    }
  ]
}