{
  "nbformat": 4,
  "nbformat_minor": 0,
  "metadata": {
    "colab": {
      "name": "Cachorro e Gato.ipynb",
      "provenance": [],
      "include_colab_link": true
    },
    "kernelspec": {
      "name": "python3",
      "display_name": "Python 3"
    }
  },
  "cells": [
    {
      "cell_type": "markdown",
      "metadata": {
        "id": "view-in-github",
        "colab_type": "text"
      },
      "source": [
        "<a href=\"https://colab.research.google.com/github/cordeiroraylle/Machine-Learning/blob/master/Cachorro_e_Gato.ipynb\" target=\"_parent\"><img src=\"https://colab.research.google.com/assets/colab-badge.svg\" alt=\"Open In Colab\"/></a>"
      ]
    },
    {
      "cell_type": "markdown",
      "metadata": {
        "id": "H0ZB1ifYq0l0",
        "colab_type": "text"
      },
      "source": [
        "# Cachorro e gato - Classificação\n",
        "\n",
        "\n",
        "* É fofinho? **1**\n",
        "* Tem orelha pequena? **1**\n",
        "* Faz miau? 1\n",
        "\n",
        "Caso contrário recebe 0 \n",
        "\n",
        "* Gato = 1\n",
        "* cachorro = -1"
      ]
    },
    {
      "cell_type": "code",
      "metadata": {
        "id": "cFItL9JPr7bJ",
        "colab_type": "code",
        "colab": {}
      },
      "source": [
        "from sklearn.linear_model import LogisticRegression as LR\n",
        "from sklearn.naive_bayes import MultinomialNB as NB"
      ],
      "execution_count": 0,
      "outputs": []
    },
    {
      "cell_type": "code",
      "metadata": {
        "id": "qtTZiknVqwkq",
        "colab_type": "code",
        "colab": {}
      },
      "source": [
        "bichinho1 = [1, 1, 1]\n",
        "bichinho2 = [1, 0, 1]\n",
        "bichinho3 = [0,1,1]\n",
        "bichinho4 = [1, 1, 0]\n",
        "bichinho5 = [0, 1, 0]\n",
        "bichinho6 = [0,1,0]\n",
        "bichinho7 = [0,0,0]"
      ],
      "execution_count": 0,
      "outputs": []
    },
    {
      "cell_type": "code",
      "metadata": {
        "id": "vQneTUzNrpkq",
        "colab_type": "code",
        "colab": {}
      },
      "source": [
        "dados = [bichinho1,bichinho2, bichinho3, bichinho4, bichinho5,bichinho6,bichinho7]\n",
        "marcacoes = [1, 1,1, -1, -1,-1,-1]"
      ],
      "execution_count": 0,
      "outputs": []
    },
    {
      "cell_type": "code",
      "metadata": {
        "id": "CWgByT6rr3uK",
        "colab_type": "code",
        "outputId": "078305ce-ad64-4a09-9e26-95a2d9fb6798",
        "colab": {
          "base_uri": "https://localhost:8080/",
          "height": 34
        }
      },
      "source": [
        "model = NB()\n",
        "model.fit(dados, marcacoes)"
      ],
      "execution_count": 80,
      "outputs": [
        {
          "output_type": "execute_result",
          "data": {
            "text/plain": [
              "MultinomialNB(alpha=1.0, class_prior=None, fit_prior=True)"
            ]
          },
          "metadata": {
            "tags": []
          },
          "execution_count": 80
        }
      ]
    },
    {
      "cell_type": "code",
      "metadata": {
        "id": "Ju5Zm4r5sYVU",
        "colab_type": "code",
        "colab": {
          "base_uri": "https://localhost:8080/",
          "height": 34
        },
        "outputId": "6f4c662c-6606-4791-d96d-3714a78a665c"
      },
      "source": [
        "misterioso = [0,0,0]\n",
        "misterioso1 = [0,0,1]\n",
        "misterioso2 =[0,1,0]\n",
        "misterioso3= [0,1,1]\n",
        "misterioso4 = [1,0,0]\n",
        "\n",
        "teste = [misterioso, misterioso1,misterioso2,misterioso3, misterioso4]\n",
        "#, misterioso2, misterioso3, misterioso4\n",
        "\n",
        "#m1 = [0,1,1]\n",
        "#m2 = [0,1,0]\n",
        "#teste = [m1,m2]\n",
        "previsao = model.predict(teste)\n",
        "\n"
      ],
      "execution_count": 84,
      "outputs": [
        {
          "output_type": "execute_result",
          "data": {
            "text/plain": [
              "array([-1,  1, -1,  1, -1])"
            ]
          },
          "metadata": {
            "tags": []
          },
          "execution_count": 84
        }
      ]
    },
    {
      "cell_type": "code",
      "metadata": {
        "id": "I5n00yCfuua-",
        "colab_type": "code",
        "colab": {}
      },
      "source": [
        "v_real = [-1,1,-1,1,-1]\n",
        "correto = (previsao == v_real).sum()\n",
        "acertos = (correto / len(teste))*100\n",
        "\n",
        "qt = 0\n",
        "qt_g = 0\n",
        "\n",
        "for d in previsao:\n",
        "  if d == -1:\n",
        "    qt +=1\n",
        "  else:\n",
        "    qt_g +=1"
      ],
      "execution_count": 0,
      "outputs": []
    },
    {
      "cell_type": "code",
      "metadata": {
        "id": "O7dFyUM88c3J",
        "colab_type": "code",
        "colab": {
          "base_uri": "https://localhost:8080/",
          "height": 136
        },
        "outputId": "3531b1a7-8345-4094-e285-7b21253ee31f"
      },
      "source": [
        "print(\"Previsão encontrada:\", previsao)\n",
        "print(\"Resposta real:\", v_real,\"\\n\")\n",
        "print(\"A taxa de acerto foi de {:.2f} %\\n\".format(acertos))\n",
        "\n",
        "print(\"O algoritmo previu \",qt,\"cachorros\")\n",
        "print(\"O algoritmo previu\", qt_g, \"gatos\")"
      ],
      "execution_count": 128,
      "outputs": [
        {
          "output_type": "stream",
          "text": [
            "Previsão encontrada: [-1  1 -1  1 -1]\n",
            "Resposta real: [-1, 1, -1, 1, -1] \n",
            "\n",
            "A taxa de acerto foi de 100.00 %\n",
            "\n",
            "O algoritmo previu  3 cachorros\n",
            "O algoritmo previu 2 gatos\n"
          ],
          "name": "stdout"
        }
      ]
    }
  ]
}